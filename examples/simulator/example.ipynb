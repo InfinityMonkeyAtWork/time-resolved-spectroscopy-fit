{
 "cells": [
  {
   "cell_type": "code",
   "execution_count": null,
   "id": "e30b301f-c1f3-43bf-bb11-a04cb8d5036a",
   "metadata": {
    "tags": []
   },
   "outputs": [],
   "source": [
    "import os # to get current working directory\n",
    "import numpy as np # to create time and energy axes\n",
    "import trspecfit # main module"
   ]
  },
  {
   "cell_type": "markdown",
   "id": "22d81874",
   "metadata": {},
   "source": [
    "Create Model"
   ]
  },
  {
   "cell_type": "code",
   "execution_count": null,
   "id": "2264e58a-b1a2-4122-be71-ef116761fe64",
   "metadata": {
    "tags": []
   },
   "outputs": [],
   "source": [
    "# create parent project\n",
    "project = trspecfit.Project(path=os.getcwd())\n",
    "# create file instance\n",
    "file = trspecfit.File(parent_project=project,\n",
    "                   energy=np.arange(0, 20, 0.01),\n",
    "                   time=np.arange(-10, 100, 0.1)\n",
    "                   )"
   ]
  },
  {
   "cell_type": "code",
   "execution_count": null,
   "id": "ba57c56e-3abc-47ee-a76e-71b77b9741c6",
   "metadata": {
    "tags": []
   },
   "outputs": [],
   "source": [
    "# load energy model\n",
    "model_name = ['single_peak']\n",
    "file.load_model(model_yaml='models_energy.yaml',\n",
    "                model_info=model_name\n",
    "                )"
   ]
  },
  {
   "cell_type": "code",
   "execution_count": null,
   "id": "50981673",
   "metadata": {},
   "outputs": [],
   "source": [
    "file.describe_model()"
   ]
  },
  {
   "cell_type": "code",
   "execution_count": null,
   "id": "803f0f02-937f-4df0-8457-3378988c257c",
   "metadata": {
    "tags": []
   },
   "outputs": [],
   "source": [
    "# add time dependence for one or more parameters of the currently active model\n",
    "file.add_time_dependence(model_yaml = \"models_time.yaml\",\n",
    "                         model_info = ['MonoExpPosIRF',],\n",
    "                         par_name = \"GLP_01_x0\"\n",
    "                         )\n",
    "# copy the above paragraph to add more time dependencies"
   ]
  },
  {
   "cell_type": "code",
   "execution_count": null,
   "id": "afa893af-663b-4ccc-998b-368343680f65",
   "metadata": {
    "tags": []
   },
   "outputs": [],
   "source": [
    "file.describe_model()"
   ]
  },
  {
   "cell_type": "code",
   "execution_count": null,
   "id": "76db5d20",
   "metadata": {},
   "outputs": [],
   "source": [
    "# plot 1D spectrum at a specific time index t_ind\n",
    "file.model_active.plot_1D(t_ind=0, plt_ind=1)"
   ]
  },
  {
   "cell_type": "code",
   "execution_count": null,
   "id": "c88bce45",
   "metadata": {},
   "outputs": [],
   "source": [
    "# Show 2D dataset with current model parameters\n",
    "file.model_active.create_value2D()\n",
    "file.model_active.plot_2D()"
   ]
  },
  {
   "cell_type": "markdown",
   "id": "5c422ee5",
   "metadata": {},
   "source": [
    "Simulate Noisy Data"
   ]
  },
  {
   "cell_type": "code",
   "execution_count": null,
   "id": "c47d9a28",
   "metadata": {},
   "outputs": [],
   "source": [
    "# Instantiate simulator\n",
    "# detection: 'analog'\n",
    "#     provide noise_level (relative to signal, between 0 and 1)\n",
    "#     and noise_type ('gaussian' or 'poisson' or 'none')\n",
    "# detection: 'photon_counting'\n",
    "#     provide counts_per_cycle (or count_rate and cycle_time)\n",
    "#     noise_level is relative to counts_per_cycle\n",
    "#     noise_type is 'poisson' (default) or 'none'\n",
    "sim = trspecfit.Simulator(model=file.model_active,\n",
    "                          detection='photon_counting',\n",
    "                          counts_per_cycle=None,\n",
    "                          seed=42\n",
    "                          )"
   ]
  },
  {
   "cell_type": "code",
   "execution_count": null,
   "id": "a1b641b1",
   "metadata": {},
   "outputs": [],
   "source": [
    "# Simulate a 1D dataset at a specific time index\n",
    "#sim_dat1D = sim.simulate_1D(t_ind=0)\n",
    "#sim.plot_comparison(t_ind=0, dim=1)"
   ]
  },
  {
   "cell_type": "code",
   "execution_count": null,
   "id": "30ce6678",
   "metadata": {},
   "outputs": [],
   "source": [
    "# Simulate a 2D dataset\n",
    "sim_dat2D = sim.simulate_2D()\n",
    "sim.plot_comparison(dim=2)"
   ]
  },
  {
   "cell_type": "code",
   "execution_count": null,
   "id": "9926383c",
   "metadata": {},
   "outputs": [],
   "source": [
    "# Simulate a number (N) of 2D datasets and save in a hdf5 file\n",
    "[clean_data, noisy_data_list, noise_list] = sim.simulate_N(N=10)\n",
    "sim.save_data(N_data=noisy_data_list)"
   ]
  },
  {
   "cell_type": "code",
   "execution_count": null,
   "id": "47a595bc-4ecd-4dc6-9049-5c3f03966e84",
   "metadata": {},
   "outputs": [],
   "source": [
    "# If you want to modify the model:\n",
    "# 1) reset models [execute this cell (free up name associated with current model)]\n",
    "# 2) Restart the Jupyter Notebook and start from scratch i.e. the top cell\n",
    "file.reset_models()"
   ]
  },
  {
   "cell_type": "code",
   "execution_count": null,
   "id": "53bb904a",
   "metadata": {},
   "outputs": [],
   "source": []
  }
 ],
 "metadata": {
  "kernelspec": {
   "display_name": ".venv (3.12.4)",
   "language": "python",
   "name": "python3"
  },
  "language_info": {
   "codemirror_mode": {
    "name": "ipython",
    "version": 3
   },
   "file_extension": ".py",
   "mimetype": "text/x-python",
   "name": "python",
   "nbconvert_exporter": "python",
   "pygments_lexer": "ipython3",
   "version": "3.12.4"
  }
 },
 "nbformat": 4,
 "nbformat_minor": 5
}
