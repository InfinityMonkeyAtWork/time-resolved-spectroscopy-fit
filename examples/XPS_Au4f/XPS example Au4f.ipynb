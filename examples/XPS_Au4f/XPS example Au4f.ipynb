{
 "cells": [
  {
   "cell_type": "markdown",
   "id": "76a9ad8e-f5cb-4fff-8805-c9ba39bc6fa7",
   "metadata": {},
   "source": [
    "# Import modules"
   ]
  },
  {
   "cell_type": "code",
   "execution_count": null,
   "id": "e30b301f-c1f3-43bf-bb11-a04cb8d5036a",
   "metadata": {
    "tags": []
   },
   "outputs": [],
   "source": [
    "import os # to get current working directory\n",
    "import numpy as np # to read example data\n",
    "import trspecfit as trsfit # main module"
   ]
  },
  {
   "cell_type": "markdown",
   "id": "fe0a7619-00bf-4cde-9cf7-7bd08175557f",
   "metadata": {
    "tags": []
   },
   "source": [
    "# Example: Two peaks with dependent parameters (+offset +background)"
   ]
  },
  {
   "cell_type": "markdown",
   "id": "4a700a7a-e5dd-40ec-a8c1-83ba8b5c74c9",
   "metadata": {},
   "source": [
    "## Create a project (defines axis labels among other parameters)"
   ]
  },
  {
   "cell_type": "code",
   "execution_count": null,
   "id": "2264e58a-b1a2-4122-be71-ef116761fe64",
   "metadata": {
    "tags": []
   },
   "outputs": [],
   "source": [
    "project_folder = os.getcwd() # path to data folder(s)\n",
    "P = trsfit.Project(path=project_folder)"
   ]
  },
  {
   "cell_type": "markdown",
   "id": "978f9366-1867-4101-a490-cf727e47aa2d",
   "metadata": {
    "tags": []
   },
   "source": [
    "## Create a file (the fit models will be associated with this)"
   ]
  },
  {
   "cell_type": "code",
   "execution_count": null,
   "id": "ba57c56e-3abc-47ee-a76e-71b77b9741c6",
   "metadata": {
    "tags": []
   },
   "outputs": [],
   "source": [
    "file_folder = \"data\" # define where data of our file is located (in project folder)\n",
    "# load data into a trsfit.File\n",
    "F = trsfit.File(P, \n",
    "                path = file_folder,\n",
    "                data = np.loadtxt(P.path / file_folder / \"data.csv\", delimiter=','),\n",
    "                energy = np.loadtxt(P.path / file_folder / \"energy.csv\"),\n",
    "                time = np.loadtxt(P.path / file_folder / \"time.csv\")\n",
    "               )"
   ]
  },
  {
   "cell_type": "markdown",
   "id": "65462ff8-d3ef-44cc-8353-0ab154dba557",
   "metadata": {
    "tags": []
   },
   "source": [
    "## Set limits (in time and energy) for the fit models"
   ]
  },
  {
   "cell_type": "code",
   "execution_count": null,
   "id": "e07de33a-22c3-47de-a13c-3ffb2c41df01",
   "metadata": {
    "tags": []
   },
   "outputs": [],
   "source": [
    "F.set_fit_limits(energy_limits = [91, 81.5],\n",
    "                 time_limits = [-1.5, 10])"
   ]
  },
  {
   "cell_type": "markdown",
   "id": "ecd1b37e-678f-4d69-8100-b81266b57f37",
   "metadata": {
    "tags": []
   },
   "source": [
    "## Define the baseline/ ground state/ unbiased portion of the spectrum "
   ]
  },
  {
   "cell_type": "code",
   "execution_count": null,
   "id": "678cc902-00da-46cc-8aad-994097ef807a",
   "metadata": {
    "tags": []
   },
   "outputs": [],
   "source": [
    "F.define_baseline(-1.5, 0, time_type='abs') # use absolute time values ...\n",
    "#F.define_baseline(0, 19, time_type='ind') # ... or start and stop index"
   ]
  },
  {
   "cell_type": "code",
   "execution_count": null,
   "id": "ae3e8e4a-42c7-471e-a7e6-7ff25b475694",
   "metadata": {
    "tags": []
   },
   "outputs": [],
   "source": [
    "F.reset_models() # use this to delete all models previously loaded in this file"
   ]
  },
  {
   "cell_type": "markdown",
   "id": "6779c938-ea3a-489c-a0c2-9403c8c0e87c",
   "metadata": {},
   "source": [
    "## Load a model for the basline spectrum and fit it"
   ]
  },
  {
   "cell_type": "code",
   "execution_count": null,
   "id": "7cc19bf1-e034-4e2d-9c7c-fbe1d2a4790a",
   "metadata": {
    "tags": []
   },
   "outputs": [],
   "source": [
    "model_name_base = \"base\" # select model name\n",
    "\n",
    "F.load_model(model_yaml = \"models_Au4f.yaml\",\n",
    "             model_info = [model_name_base,])\n",
    "F.describe_model(model_info=model_name_base, detail=0)"
   ]
  },
  {
   "cell_type": "code",
   "execution_count": null,
   "id": "eb085ebf-8540-46f0-8fb0-d9fd66f3549d",
   "metadata": {
    "tags": []
   },
   "outputs": [],
   "source": [
    "F.fit_baseline(model_name = model_name_base, fit = 2)"
   ]
  },
  {
   "cell_type": "markdown",
   "id": "a2f50869-22f2-4fae-b431-acc3565b3d2b",
   "metadata": {
    "tags": []
   },
   "source": [
    "## Load a model to fit data \"Slice-by-Slice\""
   ]
  },
  {
   "cell_type": "code",
   "execution_count": null,
   "id": "eaa211ba-42b7-45ab-b099-d20c210ff081",
   "metadata": {
    "tags": []
   },
   "outputs": [],
   "source": [
    "model_name_SbS = \"2D\" # select model name\n",
    "\n",
    "F.load_model(model_yaml = \"models_Au4f.yaml\",\n",
    "             model_info = [model_name_SbS,])\n",
    "F.describe_model(model_name_SbS, detail=0)"
   ]
  },
  {
   "cell_type": "code",
   "execution_count": null,
   "id": "9b6b2055-27bd-4663-b03b-5472924cb250",
   "metadata": {
    "tags": []
   },
   "outputs": [],
   "source": [
    "F.fit_SliceBySlice(model_name = model_name_SbS,\n",
    "                   fit = 1,\n",
    "                   try_CI = 0)"
   ]
  },
  {
   "cell_type": "markdown",
   "id": "1e3ddf68-869c-4da3-9150-64445af4fb45",
   "metadata": {
    "tags": []
   },
   "source": [
    "## Load a model to perform a global 2D fit"
   ]
  },
  {
   "cell_type": "code",
   "execution_count": null,
   "id": "159f133e-98ab-4c44-b3c3-5ead5bb7b895",
   "metadata": {
    "tags": []
   },
   "outputs": [],
   "source": [
    "# load energy/spectroscopy model\n",
    "model_name_2D = \"2D\" # select model name\n",
    "F.delete_model(model_name_2D)\n",
    "F.load_model(model_yaml = \"models_Au4f.yaml\",\n",
    "             model_info = [model_name_2D,])\n",
    "F.describe_model(model_info=model_name_2D, detail=0)"
   ]
  },
  {
   "cell_type": "code",
   "execution_count": null,
   "id": "803f0f02-937f-4df0-8457-3378988c257c",
   "metadata": {
    "tags": []
   },
   "outputs": [],
   "source": [
    "# add time dependence for one or more parameters\n",
    "F.add_time_dependence(model_yaml = \"models_time.yaml\",\n",
    "                      model_info = [\"IRF\", \"MonoExpNeg\", \"MonoExpPos\"],\n",
    "                      par_name = \"GLP_01_x0\",\n",
    "                      frequency = 0.5)\n",
    "print()\n",
    "F.describe_model(model_info=[model_name_2D,], detail=1)"
   ]
  },
  {
   "cell_type": "code",
   "execution_count": null,
   "id": "afa893af-663b-4ccc-998b-368343680f65",
   "metadata": {
    "tags": []
   },
   "outputs": [],
   "source": [
    "# perform fit\n",
    "F.fit_2Dmodel(model_name = model_name_2D,\n",
    "              fit = 2,\n",
    "              try_CI = 0)"
   ]
  },
  {
   "cell_type": "code",
   "execution_count": null,
   "id": "28fb340e-7835-4876-8db9-e89703253cf5",
   "metadata": {},
   "outputs": [],
   "source": []
  },
  {
   "cell_type": "code",
   "execution_count": null,
   "id": "931f4c50-9cfe-401c-8d49-20481e43030f",
   "metadata": {},
   "outputs": [],
   "source": []
  },
  {
   "cell_type": "code",
   "execution_count": null,
   "id": "47a595bc-4ecd-4dc6-9049-5c3f03966e84",
   "metadata": {},
   "outputs": [],
   "source": []
  }
 ],
 "metadata": {
  "kernelspec": {
   "display_name": ".venv",
   "language": "python",
   "name": "python3"
  },
  "language_info": {
   "codemirror_mode": {
    "name": "ipython",
    "version": 3
   },
   "file_extension": ".py",
   "mimetype": "text/x-python",
   "name": "python",
   "nbconvert_exporter": "python",
   "pygments_lexer": "ipython3",
   "version": "3.12.7"
  }
 },
 "nbformat": 4,
 "nbformat_minor": 5
}
